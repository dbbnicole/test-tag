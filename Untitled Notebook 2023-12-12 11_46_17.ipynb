{
 "cells": [
  {
   "cell_type": "code",
   "execution_count": 0,
   "metadata": {
    "application/vnd.databricks.v1+cell": {
     "cellMetadata": {},
     "inputWidgets": {},
     "nuid": "81121653-fa9f-4d37-82d0-4b8931548664",
     "showTitle": false,
     "title": ""
    }
   },
   "outputs": [],
   "source": [
    "print(\"This should be an ipynb notebook\")\n",
    "print(\"now let me commit it again\")"
   ]
  }
 ],
 "metadata": {
  "application/vnd.databricks.v1+notebook": {
   "dashboards": [],
   "language": "python",
   "notebookMetadata": {
    "pythonIndentUnit": 2
   },
   "notebookName": "Untitled Notebook 2023-12-12 11_46_17",
   "widgets": {}
  }
 },
 "nbformat": 4,
 "nbformat_minor": 0
}
